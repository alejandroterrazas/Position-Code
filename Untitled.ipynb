{
 "cells": [
  {
   "cell_type": "code",
   "execution_count": 1,
   "metadata": {},
   "outputs": [],
   "source": [
    "import struct\n",
    "import matplotlib.pyplot as plt\n",
    "import numpy as np\n",
    "import os\n",
    "import array\n",
    "import sys\n",
    "import VideoUtils as vu\n",
    "from scipy import ndimage"
   ]
  },
  {
   "cell_type": "code",
   "execution_count": 15,
   "metadata": {},
   "outputs": [],
   "source": [
    "def makeMaskfromTracker(xvals, yvals):\n",
    "  accumulate = np.zeros([640,480])\n",
    "  mask = np.zeros_like(accumulate)\n",
    "  for x, y in zip(xvals,yvals):\n",
    "     #print(x,y)\n",
    "     if (xlim[0] < x < xlim[1]) and (ylim[0] < y < ylim[1]):\n",
    "        accumulate[x,y] +=1\n",
    "  mask[np.where(accumulate>5)] = 1\n",
    " # mask = ndimage.binary_erosion(mask, structure=np.ones((30,30)))\n",
    "  mask = ndimage.binary_dilation(mask, structure=np.ones((30,30)))\n",
    "  #mask = ndimage.binary_erosion(mask, structure=np.ones((60,30)))\n",
    "  return mask\n",
    "\n",
    "def makeMask(data):\n",
    "\n",
    "  accumulate = np.zeros([640,480])\n",
    "  mask  = np.zeros_like(accumulate)\n",
    "\n",
    "  for ii,targets in enumerate(data):\n",
    "    for t in targets:\n",
    "      line = format(t,'032b')\n",
    "      pure = line[0:4]\n",
    "      y = int(line[4:16], 2)\n",
    "      raw = line[16:20]\n",
    "      x = int(line[20:], 2)\n",
    "\n",
    "      if (ylim[0] < y < ylim[1]) and (xlim[0] < x < xlim[1]):\n",
    "        accumulate[x,y] += 1\n",
    "\n",
    "  mask[np.where(accumulate>10)] = 1\n",
    "  #erode and dilate mask to find outline of maze\n",
    "  #mask = ndimage.binary_erosion(mask, structure=np.ones((100,100)))\n",
    "  mask = ndimage.binary_dilation(mask, structure=np.ones((30,30)))\n",
    " \n",
    "  return mask\n",
    "\n"
   ]
  },
  {
   "cell_type": "code",
   "execution_count": null,
   "metadata": {},
   "outputs": [],
   "source": [
    "xlim = [0, 640]\n",
    "#ylim = [0, 480]\n",
    "ylim = [270, 480]\n",
    "\n",
    "\n",
    "npzfile = np.load('./RawData/EPOCHS.npz')\n",
    "start = npzfile['arr_0'].astype(int)\n",
    "stop = npzfile['arr_1'].astype(int)\n",
    "videofile = './RawData/VT1.Nvt'\n",
    "\n",
    "timestamps, xpt, ypt, dwP, dnT = vu.getVideoData(videofile)\n",
    "\n",
    "P = list(dwP[start:stop])\n",
    "T = list(dnT[start:stop])\n",
    "video_ts = list(timestamps[start:stop])\n",
    "\n",
    "x, y, tracker_ts = vu.getTrackerXY_Points(videofile)\n",
    "\n",
    "x_tracker_pix = np.round(x/(np.max(x)/640)).astype(int)\n",
    "y_tracker_pix = np.round(y/(np.max(y)/480)).astype(int)\n",
    "\n",
    "#print(\"x_pix: \", x_pix, \"y_pix: \", y_pix)\n",
    "x = list(x_tracker_pix[start:stop])\n",
    "y = list(y_tracker_pix[start:stop])\n",
    "tracker_ts = list(tracker_ts[start:stop])"
   ]
  },
  {
   "cell_type": "code",
   "execution_count": 16,
   "metadata": {},
   "outputs": [
    {
     "data": {
      "image/png": "[encoded data removed]",
      "text/plain": [
       "<Figure size 432x288 with 1 Axes>"
      ]
     },
     "metadata": {
      "needs_background": "light"
     },
     "output_type": "display_data"
    },
    {
     "data": {
      "image/png": "[encoded data removed]",
      "text/plain": [
       "<Figure size 432x288 with 1 Axes>"
      ]
     },
     "metadata": {
      "needs_background": "light"
     },
     "output_type": "display_data"
    }
   ],
   "source": [
    "mask = makeMask(P)\n",
    "plt.imshow(mask)\n",
    "plt.show()\n",
    "\n",
    "trackermask = makeMaskfromTracker(x, y)\n",
    "plt.imshow(trackermask)\n",
    "plt.show()"
   ]
  },
  {
   "cell_type": "code",
   "execution_count": 12,
   "metadata": {},
   "outputs": [
    {
     "name": "stdout",
     "output_type": "stream",
     "text": [
      "[1708634808, 1708651522, 1708668173, 1708684888, 1708701539, 1708718254, 1708734905, 1708751619, 1708768270, 1708784985]\n",
      "[1708634808 1708651522 1708668173 1708684888 1708701539 1708718254\n",
      " 1708734905 1708751619 1708768270 1708784985]\n"
     ]
    }
   ],
   "source": [
    "print(video_ts[:10])\n",
    "print(tracker_ts[:10])"
   ]
  },
  {
   "cell_type": "code",
   "execution_count": 38,
   "metadata": {},
   "outputs": [
    {
     "name": "stdout",
     "output_type": "stream",
     "text": [
      "120500\n",
      "120500\n",
      "120500\n",
      "120500\n",
      "288986\n"
     ]
    }
   ],
   "source": [
    "print(len(video_ts))\n",
    "print(len(tracker_ts))\n",
    "\n",
    "print(len(x_tracker_pix))\n",
    "print(len(y_tracker_pix))\n",
    "\n",
    "print(len(dwP))"
   ]
  },
  {
   "cell_type": "code",
   "execution_count": 40,
   "metadata": {},
   "outputs": [
    {
     "name": "stdout",
     "output_type": "stream",
     "text": [
      "(59, 0, 0)\n",
      "(60, 0, 0)\n",
      "(4129, 3, 43)\n",
      "(4136, 3, 45)\n",
      "(7326, 0, 0)\n",
      "(7327, 3, 266)\n",
      "(11114, 3, 242)\n",
      "(12899, 2, 71)\n",
      "(16489, 2, 300)\n",
      "(18469, 4, 245)\n",
      "(24604, 4, 69)\n",
      "(25379, 0, 0)\n",
      "(25380, 0, 0)\n",
      "(25381, 0, 0)\n",
      "(25382, 0, 0)\n",
      "(39255, 0, 0)\n",
      "(40447, 4, 144)\n",
      "(40448, 0, 0)\n",
      "(40449, 0, 0)\n",
      "(40450, 0, 0)\n",
      "(40451, 0, 0)\n",
      "(40452, 0, 0)\n",
      "(46036, 0, 1)\n",
      "(46037, 0, 1)\n",
      "(46038, 0, 1)\n",
      "(47500, 0, 0)\n",
      "(47501, 0, 0)\n",
      "(47713, 2, 135)\n",
      "(47714, 0, 0)\n",
      "(56360, 0, 0)\n",
      "(56361, 0, 0)\n",
      "(56362, 0, 0)\n",
      "(56363, 0, 0)\n",
      "(56364, 0, 0)\n",
      "(61968, 4, 190)\n",
      "(61969, 0, 0)\n",
      "(61970, 0, 0)\n",
      "(61971, 0, 0)\n",
      "(61972, 2, 169)\n",
      "(67614, 4, 61)\n",
      "(72289, 0, 0)\n",
      "(76488, 0, 0)\n",
      "(79538, 2, 116)\n",
      "(79539, 0, 0)\n",
      "(79540, 0, 0)\n",
      "(79541, 0, 0)\n",
      "(79542, 0, 0)\n",
      "(79543, 0, 0)\n",
      "(79544, 0, 0)\n",
      "(79545, 0, 0)\n",
      "(79546, 0, 0)\n",
      "(79547, 0, 0)\n",
      "(79548, 0, 0)\n",
      "(79549, 0, 0)\n",
      "(79550, 0, 0)\n",
      "(79551, 0, 0)\n",
      "(79552, 0, 0)\n",
      "(79553, 0, 0)\n",
      "(79554, 0, 0)\n",
      "(79555, 0, 0)\n",
      "(79556, 0, 0)\n",
      "(79557, 0, 0)\n",
      "(79558, 0, 0)\n",
      "(99551, 0, 0)\n",
      "(99552, 0, 0)\n",
      "(99553, 0, 0)\n",
      "(99554, 0, 0)\n",
      "(99555, 0, 0)\n",
      "(99556, 0, 0)\n",
      "(116808, 2, 44)\n",
      "(117610, 4, 57)\n",
      "(117611, 3, 61)\n",
      "(117612, 2, 57)\n",
      "(117613, 0, 0)\n",
      "(117614, 3, 58)\n",
      "(117615, 3, 58)\n",
      "(117616, 3, 58)\n",
      "(117617, 0, 0)\n",
      "(117618, 0, 0)\n",
      "(117619, 2, 57)\n",
      "(117620, 2, 57)\n",
      "(117622, 3, 57)\n",
      "(117630, 2, 58)\n",
      "(117634, 3, 61)\n",
      "(117635, 2, 62)\n",
      "(117636, 4, 62)\n",
      "(117637, 4, 62)\n",
      "(117645, 4, 64)\n",
      "(117653, 2, 69)\n",
      "(117654, 3, 67)\n",
      "(117658, 3, 67)\n",
      "(117659, 4, 67)\n",
      "(117660, 2, 68)\n",
      "(117678, 4, 66)\n",
      "(117679, 0, 0)\n",
      "(117680, 0, 0)\n",
      "(117681, 0, 0)\n",
      "(117682, 0, 0)\n",
      "(117683, 0, 0)\n",
      "(117684, 0, 0)\n",
      "(117685, 0, 0)\n",
      "(117686, 0, 0)\n",
      "(117687, 0, 0)\n",
      "(117688, 0, 0)\n",
      "(117689, 0, 0)\n",
      "(117690, 0, 0)\n",
      "(117691, 0, 0)\n",
      "(117692, 0, 0)\n",
      "(117693, 0, 0)\n",
      "(117694, 0, 0)\n",
      "(117695, 0, 0)\n",
      "(117696, 0, 0)\n",
      "(117697, 0, 0)\n",
      "(117698, 0, 0)\n",
      "(117699, 2, 58)\n",
      "(117717, 2, 57)\n",
      "(117718, 0, 0)\n",
      "(117719, 0, 0)\n",
      "(117720, 0, 0)\n",
      "(117721, 0, 0)\n",
      "(117722, 0, 0)\n",
      "(117723, 0, 0)\n",
      "(117724, 0, 0)\n",
      "(117726, 4, 61)\n",
      "(117727, 3, 63)\n",
      "(117826, 4, 60)\n",
      "(117867, 4, 67)\n",
      "(117868, 0, 0)\n",
      "(117869, 0, 0)\n",
      "(117870, 0, 0)\n",
      "(117871, 0, 0)\n",
      "(117872, 0, 0)\n",
      "(117873, 0, 0)\n",
      "(117874, 0, 0)\n",
      "(117875, 0, 0)\n",
      "(117876, 0, 0)\n",
      "(117877, 0, 0)\n",
      "(117878, 0, 0)\n",
      "(117879, 0, 0)\n",
      "(117880, 0, 0)\n",
      "(117881, 0, 0)\n",
      "(117882, 0, 0)\n",
      "(117883, 0, 0)\n",
      "(117884, 0, 0)\n",
      "(117885, 0, 0)\n",
      "(117886, 0, 0)\n",
      "(117887, 0, 0)\n",
      "(117888, 4, 57)\n",
      "(117889, 3, 56)\n",
      "(117890, 2, 56)\n",
      "(117891, 0, 0)\n",
      "(117892, 4, 57)\n"
     ]
    }
   ],
   "source": [
    "video_x, video_y = [],[]\n",
    "tracker_x, tracker_y = [],[]\n",
    "zero_tracker = []\n",
    "for ii,targets in enumerate(P):\n",
    "    for target in targets:   \n",
    "        line = format(target,'032b')\n",
    "        #y += int(line[4:16], 2)\n",
    "        #x += int(line[20:], 2)\n",
    "    if len(targets) < 5:\n",
    "        print(ii, len(targets), x_tracker_pix[ii])\n",
    "        zero_tracker.append(ii)\n",
    "    #y /= len(targets)\n",
    "    #x /= len(targets)\n",
    "    #print(\"x, y\", x, y)\n",
    "    #print(\"tx,ty\", x_tracker_pix[ii], y_tracker_pix[ii])\n",
    "    #video_x.append(x)\n",
    "    #video_y.append(y)\n",
    "    #tracker_x.append(x_tracker_pix[ii])\n",
    "    #tracker_y.append(y_tracker_pix[ii])"
   ]
  },
  {
   "cell_type": "code",
   "execution_count": 42,
   "metadata": {},
   "outputs": [
    {
     "name": "stdout",
     "output_type": "stream",
     "text": [
      "[59, 60, 4129, 4136, 7326, 7327, 11114, 12899, 16489, 18469, 24604, 25379, 25380, 25381, 25382, 39255, 40447, 40448, 40449, 40450, 40451, 40452, 46036, 46037, 46038, 47500, 47501, 47713, 47714, 56360, 56361, 56362, 56363, 56364, 61968, 61969, 61970, 61971, 61972, 67614, 72289, 76488, 79538, 79539, 79540, 79541, 79542, 79543, 79544, 79545, 79546, 79547, 79548, 79549, 79550, 79551, 79552, 79553, 79554, 79555, 79556, 79557, 79558, 99551, 99552, 99553, 99554, 99555, 99556, 116808, 117610, 117611, 117612, 117613, 117614, 117615, 117616, 117617, 117618, 117619, 117620, 117622, 117630, 117634, 117635, 117636, 117637, 117645, 117653, 117654, 117658, 117659, 117660, 117678, 117679, 117680, 117681, 117682, 117683, 117684, 117685, 117686, 117687, 117688, 117689, 117690, 117691, 117692, 117693, 117694, 117695, 117696, 117697, 117698, 117699, 117717, 117718, 117719, 117720, 117721, 117722, 117723, 117724, 117726, 117727, 117826, 117867, 117868, 117869, 117870, 117871, 117872, 117873, 117874, 117875, 117876, 117877, 117878, 117879, 117880, 117881, 117882, 117883, 117884, 117885, 117886, 117887, 117888, 117889, 117890, 117891, 117892]\n"
     ]
    }
   ],
   "source": [
    "print(zero_tracker)"
   ]
  },
  {
   "cell_type": "code",
   "execution_count": null,
   "metadata": {},
   "outputs": [],
   "source": []
  },
  {
   "cell_type": "code",
   "execution_count": null,
   "metadata": {},
   "outputs": [],
   "source": [
    "starts = np.arange(0,len(maze_ts), len(maze_ts)//100)\n",
    "\n",
    "for start in starts[:-2]:\n",
    "    stop = start + len(maze_ts)//100\n",
    "    plt.plot(maze_xloc[start:stop],maze_yloc[start:stop],'r.')\n",
    "    plt.plot(dwPpvdx[start:stop], dwPpvdy[start:stop], 'g.')\n",
    "    "
   ]
  },
  {
   "cell_type": "code",
   "execution_count": 24,
   "metadata": {},
   "outputs": [
    {
     "name": "stdout",
     "output_type": "stream",
     "text": [
      "73377\n",
      "120500\n"
     ]
    }
   ],
   "source": [
    "    \n",
    "    print(len(video_y))\n",
    "print(len(x_tracker_pix))"
   ]
  },
  {
   "cell_type": "code",
   "execution_count": 22,
   "metadata": {},
   "outputs": [
    {
     "ename": "TypeError",
     "evalue": "unsupported operand type(s) for -: 'list' and 'int'",
     "output_type": "error",
     "traceback": [
      "\u001b[0;31m---------------------------------------------------------------------------\u001b[0m",
      "\u001b[0;31mTypeError\u001b[0m                                 Traceback (most recent call last)",
      "\u001b[0;32m<ipython-input-22-60e40355f31c>\u001b[0m in \u001b[0;36m<module>\u001b[0;34m()\u001b[0m\n\u001b[0;32m----> 1\u001b[0;31m \u001b[0mplt\u001b[0m\u001b[0;34m.\u001b[0m\u001b[0mplot\u001b[0m\u001b[0;34m(\u001b[0m\u001b[0mvideo_x\u001b[0m \u001b[0;34m-\u001b[0m \u001b[0mx\u001b[0m\u001b[0;34m)\u001b[0m\u001b[0;34m\u001b[0m\u001b[0m\n\u001b[0m\u001b[1;32m      2\u001b[0m \u001b[0mplt\u001b[0m\u001b[0;34m.\u001b[0m\u001b[0mshow\u001b[0m\u001b[0;34m(\u001b[0m\u001b[0;34m)\u001b[0m\u001b[0;34m\u001b[0m\u001b[0m\n\u001b[1;32m      3\u001b[0m \u001b[0mplt\u001b[0m\u001b[0;34m.\u001b[0m\u001b[0mplot\u001b[0m\u001b[0;34m(\u001b[0m\u001b[0mvideo_y\u001b[0m \u001b[0;34m-\u001b[0m \u001b[0my\u001b[0m\u001b[0;34m)\u001b[0m\u001b[0;34m\u001b[0m\u001b[0m\n\u001b[1;32m      4\u001b[0m \u001b[0mplt\u001b[0m\u001b[0;34m.\u001b[0m\u001b[0mshow\u001b[0m\u001b[0;34m(\u001b[0m\u001b[0;34m)\u001b[0m\u001b[0;34m\u001b[0m\u001b[0m\n\u001b[1;32m      5\u001b[0m \u001b[0;34m\u001b[0m\u001b[0m\n",
      "\u001b[0;31mTypeError\u001b[0m: unsupported operand type(s) for -: 'list' and 'int'"
     ]
    }
   ],
   "source": [
    "plt.show()\n",
    "plt.plot(video_y - y)\n",
    "plt.show()\n",
    "    "
   ]
  },
  {
   "cell_type": "code",
   "execution_count": null,
   "metadata": {},
   "outputs": [],
   "source": []
  }
 ],
 "metadata": {
  "kernelspec": {
   "display_name": "Python 3",
   "language": "python",
   "name": "python3"
  },
  "language_info": {
   "codemirror_mode": {
    "name": "ipython",
    "version": 2
   },
   "file_extension": ".py",
   "mimetype": "text/x-python",
   "name": "python",
   "nbconvert_exporter": "python",
   "pygments_lexer": "ipython2",
   "version": "2.7.12"
  }
 },
 "nbformat": 4,
 "nbformat_minor": 2
}
