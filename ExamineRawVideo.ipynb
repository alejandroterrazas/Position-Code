{
 "cells": [
  {
   "cell_type": "markdown",
   "metadata": {},
   "source": [
    "# Use this code to take a closer looks at the raw video data.  \n",
    "\n",
    "1-You can find sections where outside lights contaminate the tracking.\n",
    "\n",
    "2-You can verify the mask.\n",
    "\n",
    "3-This is also a good way to understand part of the processing pipeline for position data."
   ]
  },
  {
   "cell_type": "code",
   "execution_count": 1,
   "metadata": {},
   "outputs": [],
   "source": [
    "import VideoUtils as vu\n",
    "import numpy as np\n",
    "from matplotlib import pyplot as plt\n",
    "\n",
    "import array\n",
    "\n",
    "from scipy import ndimage"
   ]
  },
  {
   "cell_type": "raw",
   "metadata": {},
   "source": [
    "plt.plot(timestamps)\n",
    "plt.show()"
   ]
  },
  {
   "cell_type": "code",
   "execution_count": null,
   "metadata": {},
   "outputs": [],
   "source": [
    "timestamps, xpt, ypt, dwP, dnT = vu.getVideoData('./RawData/VT1.Nvt')"
   ]
  },
  {
   "cell_type": "code",
   "execution_count": 45,
   "metadata": {
    "scrolled": true
   },
   "outputs": [
    {
     "name": "stdout",
     "output_type": "stream",
     "text": [
      "(15565055, 15532291, 15696124, 15663366, 15827196, 15794441, 15958270, 15925515, 16089341, 16056578, 16220416, 16187652, 16482570, 16449805, 16613637, 16580878, 16744707, 16711947)\n"
     ]
    }
   ],
   "source": [
    "print(dwP[0])"
   ]
  },
  {
   "cell_type": "code",
   "execution_count": null,
   "metadata": {},
   "outputs": [],
   "source": [
    "xloc, yloc, ts = vu.getTrackerXY_Points('./RawData/VT1.Nvt')"
   ]
  },
  {
   "cell_type": "code",
   "execution_count": 36,
   "metadata": {},
   "outputs": [
    {
     "name": "stdout",
     "output_type": "stream",
     "text": [
      "25466811.0\n"
     ]
    }
   ],
   "source": [
    "#print(ts[79000:79200]//100)\n",
    "maze_ts = ts[79000:]//100\n",
    "print(maze_ts[0])\n",
    "x_loc_pix = np.round(xloc/(np.max(xloc)/640))\n",
    "y_loc_pix = np.round(yloc/(np.max(yloc)/480))\n",
    "\n",
    "maze_xloc = x_loc_pix[79000:]\n",
    "maze_yloc = y_loc_pix[79000:]"
   ]
  },
  {
   "cell_type": "code",
   "execution_count": null,
   "metadata": {},
   "outputs": [],
   "source": [
    "pvdts, pvdx, pvdy = vu.readPVDfile('./RawData/maze_dwPout.pvd')"
   ]
  },
  {
   "cell_type": "code",
   "execution_count": 43,
   "metadata": {},
   "outputs": [
    {
     "data": {
      "text/plain": [
       "(250, 480)"
      ]
     },
     "execution_count": 43,
     "metadata": {},
     "output_type": "execute_result"
    },
    {
     "data": {
      "image/png": "[encoded data removed]",
      "text/plain": [
       "<Figure size 432x288 with 1 Axes>"
      ]
     },
     "metadata": {
      "needs_background": "light"
     },
     "output_type": "display_data"
    }
   ],
   "source": [
    "plt.plot(pvdx[500:600], pvdy[500:600], 'k.')\n",
    "plt.xlim(0,640)\n",
    "plt.ylim(250,480)\n",
    "\n",
    "plt.plot(maze_xloc[500:600], maze_yloc[500:600], 'r.')\n",
    "plt.xlim(0,640)\n",
    "plt.ylim(250,480)\n"
   ]
  },
  {
   "cell_type": "code",
   "execution_count": 6,
   "metadata": {},
   "outputs": [
    {
     "name": "stdout",
     "output_type": "stream",
     "text": [
      "(1228737548.0, 1228737548, 67047.0, 231, (15565055, 15532291, 15696124, 15663366, 15827196, 15794441, 15958270, 15925515, 16089341, 16056578, 16220416, 16187652, 16482570, 16449805, 16613637, 16580878, 16744707, 16711947))\n"
     ]
    }
   ],
   "source": [
    "print(ts[0], timestamps[0], xloc[0], xpt[0], dwP[0])"
   ]
  },
  {
   "cell_type": "code",
   "execution_count": null,
   "metadata": {},
   "outputs": [],
   "source": [
    "plt.plot(xloc, yloc,'r.')\n",
    "plt.show()\n",
    "\n",
    "mstart = 78000\n",
    "mstop = 220000"
   ]
  },
  {
   "cell_type": "code",
   "execution_count": null,
   "metadata": {},
   "outputs": [],
   "source": [
    "print(len(ts))\n",
    "print(len(xloc))\n",
    "x_loc_pix = np.round(xloc/(np.max(xloc)/640))\n",
    "y_loc_pix = np.round(yloc/(np.max(yloc)/480))\n",
    "plt.plot(x_loc_pix, y_loc_pix, 'c.')\n",
    "plt.show()\n",
    "print(np.max(x_loc_pix))"
   ]
  },
  {
   "cell_type": "code",
   "execution_count": null,
   "metadata": {},
   "outputs": [],
   "source": [
    "print(mstart)\n",
    "starts = np.arange(mstart,mstop, len(ts)//100)\n",
    "\n",
    "print(starts)"
   ]
  },
  {
   "cell_type": "code",
   "execution_count": null,
   "metadata": {},
   "outputs": [],
   "source": [
    "x = plt.hist(x_loc_pix[mstart:mstop])\n",
    "print(x)\n",
    "\n",
    "plt.show()\n"
   ]
  },
  {
   "cell_type": "code",
   "execution_count": null,
   "metadata": {},
   "outputs": [],
   "source": [
    "for start in starts[:-2]:\n",
    "    stop = len(ts)//100\n",
    "    plt.plot(x_loc_pix[start:start+stop], y_loc_pix[start:start+stop], 'r,')\n",
    "    plt.show()\n",
    "    \n",
    "    "
   ]
  },
  {
   "cell_type": "raw",
   "metadata": {},
   "source": [
    "print(timestamps)\n",
    "plt.plot(timestamps)\n",
    "plt.show()"
   ]
  },
  {
   "cell_type": "code",
   "execution_count": null,
   "metadata": {},
   "outputs": [],
   "source": [
    "plt.hist(xpt)\n",
    "plt.show()"
   ]
  },
  {
   "cell_type": "code",
   "execution_count": null,
   "metadata": {},
   "outputs": [],
   "source": [
    "##in set the ylims and xlims for the track (can help eliminate\n",
    "# contimination.  Make sure you don't cut the good data out.\n",
    "print(np.shape(dnT))\n",
    "xlim = [0, 640]\n",
    "ylim = [250, 480]"
   ]
  },
  {
   "cell_type": "code",
   "execution_count": null,
   "metadata": {},
   "outputs": [],
   "source": [
    "##accumulate the binary pixels for each frame in a segment\n",
    "\n",
    "def returnVideoSeg(segment):\n",
    "  accumulate = np.zeros([640,480])\n",
    "  for ii,targets in enumerate(segment):\n",
    "    for t in targets:\n",
    "        line = format(t, '032b')\n",
    "        print(\"line: \", line)\n",
    "        pure = line[0:4]\n",
    "        y = int(line[4:16], 2)\n",
    "        raw = line[16:20]\n",
    "        x = int(line[20:], 2)\n",
    "        if (ylim[0] < y < ylim[1] and xlim[0] < x < xlim[1]):\n",
    "           accumulate[x,y] += 1\n",
    "  return accumulate      "
   ]
  },
  {
   "cell_type": "code",
   "execution_count": null,
   "metadata": {},
   "outputs": [],
   "source": [
    "##use this setion to plot a series segments to help \n",
    "# identify problematic segments.  mstart and mstop\n",
    "# are the start and stop of the maze epochs.\n",
    "\n",
    "mstart = 780000\n",
    "mstop = 220000\n",
    "\n",
    "starts = np.arange(mstart,mstop, len(dwP)//100)\n",
    "for start in starts[:-2]:\n",
    "    segment = dwP[start:start+c]\n",
    "    accum = returnVideoSeg(segment)\n",
    "    mask = np.zeros_like(accum)\n",
    "    \n",
    "    mask[np.where(accum>1)] = 1\n",
    "    plt.subplot(1,2,1)\n",
    "    plt.imshow(mask)\n",
    "    plt.subplot(1,2,2)\n",
    "    plt.imshow(accum)\n",
    "    plt.title(str(start))\n",
    "    plt.show()\n",
    "    "
   ]
  },
  {
   "cell_type": "code",
   "execution_count": null,
   "metadata": {},
   "outputs": [],
   "source": [
    "\n",
    "segment = dwP[78000:220000]\n",
    "accum = returnVideoSeg(segment)\n",
    "mask = np.zeros_like(accum)\n",
    "    \n",
    "mask[np.where(accum>1)] = 1\n",
    "plt.imshow(mask)\n",
    "plt.show()"
   ]
  },
  {
   "cell_type": "code",
   "execution_count": null,
   "metadata": {
    "scrolled": true
   },
   "outputs": [],
   "source": [
    "mask = ndimage.binary_dilation(mask, structure=np.ones((10,10)))\n",
    "  #erode and dilate mask to find outline of maze\n",
    "\n",
    "plt.imshow(mask)\n",
    "plt.show()\n",
    "mask = ndimage.binary_erosion(mask, structure=np.ones((10,10)))\n",
    "\n",
    "#mask = ndimage.binary_dilation(mask, structure=np.ones((10,50)))\n",
    "\n",
    "plt.imshow(mask)\n",
    "plt.show()"
   ]
  },
  {
   "cell_type": "code",
   "execution_count": null,
   "metadata": {},
   "outputs": [],
   "source": [
    "plt.plot(xpt, ypt, 'r.')\n",
    "plt.show()"
   ]
  },
  {
   "cell_type": "code",
   "execution_count": null,
   "metadata": {},
   "outputs": [],
   "source": [
    "print(np)"
   ]
  }
 ],
 "metadata": {
  "kernelspec": {
   "display_name": "Python 3",
   "language": "python",
   "name": "python3"
  },
  "language_info": {
   "codemirror_mode": {
    "name": "ipython",
    "version": 2
   },
   "file_extension": ".py",
   "mimetype": "text/x-python",
   "name": "python",
   "nbconvert_exporter": "python",
   "pygments_lexer": "ipython2",
   "version": "2.7.12"
  }
 },
 "nbformat": 4,
 "nbformat_minor": 2
}
