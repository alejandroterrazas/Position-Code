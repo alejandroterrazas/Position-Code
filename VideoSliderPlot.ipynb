{
 "cells": [
  {
   "cell_type": "code",
   "execution_count": 1,
   "metadata": {},
   "outputs": [],
   "source": [
    "import struct\n",
    "import sys\n",
    "from matplotlib import pyplot as plt\n",
    "from matplotlib.widgets import Button\n",
    "from shapely import geometry\n",
    "import numpy as np\n",
    "from matplotlib.widgets import Slider\n",
    "from matplotlib.widgets import TextBox\n",
    "import pandas as pd"
   ]
  },
  {
   "cell_type": "code",
   "execution_count": null,
   "metadata": {},
   "outputs": [],
   "source": [
    "dir = sys.argv[1]\n",
    "\n",
    "print(\"Dir {}\".format(dir))\n",
    "\n",
    "def slider_on_change(val):\n",
    "   if dir == \"1\":\n",
    "      l1.set_xdata(xfilt[0:int(val)])\n",
    "      l1.set_ydata(yfilt[0:int(val)])\n",
    "   elif dir == \"-1\":\n",
    "      l1.set_xdata(xfilt[int(val):-1])\n",
    "      l1.set_ydata(yfilt[int(val):-1])\n",
    "   if dir == \"0\":\n",
    "      l2.set_xdata(newx[int(val):(int(val)+10000)])\n",
    "      l2.set_ydata(newy[int(val):(int(val)+10000)])\n",
    "\n",
    "   print(int(val))\n",
    "   fig.canvas.draw_idle()   \n",
    "     \n",
    "vidfile = './RawData/VT1.Nvt'\n",
    "#testFile = './rec_09152017/VT1.Nvt'\n",
    "with open(vidfile, 'rb') as f:\n",
    "    videodata = f.read()[16384:]\n",
    "    f.close() \n",
    "x, y, ts,_, _  = getVideoData(videodata)\n",
    "\n",
    "xfilt = vu.smooth(x, window_len=200)\n",
    "yfilt = vu.smooth(y, window_len=200)\n",
    "\n",
    "#plot min and max values\n",
    "xmin = np.amin(xfilt)\n",
    "xmax = np.amax(xfilt)\n",
    "ymin = np.amin(yfilt)\n",
    "ymax = np.amax(yfilt)\n",
    "\n",
    "ylim=100\n",
    "xfilt,yfilt = vu.mask(xfilt,yfilt,0, ylim)\n",
    "\n",
    "fig, ax = plt.subplots()\n",
    "\n",
    "l1, = plt.plot(xfilt,yfilt,'.', markersize=5, color='#FFE4C4')\n",
    "\n",
    "if dir == \"0\":\n",
    "    l2, = plt.plot(newx[1:1000],newy[1:1000],'.', markersize=5, color='#0F0F0F')\n",
    "\n",
    "#l1, = plt.plot(xfilt, yfilt, '.', markersize=5, color='#FFE4C4')\n",
    "\n",
    "#plt.xlim([40000,np.amax(xfilt)+1000])\n",
    "plt.xlim([xmin-1000, xmax+1000])\n",
    "plt.ylim([ymin-1000, ymax+1000])\n",
    "\n",
    "tslider_ax = fig.add_axes([0.25, 0.15, 0.65, 0.03])\n",
    "tslider = Slider(tslider_ax, 'Time', 0.1, len(xfilt), valinit=0.1)\n",
    "tslider.on_changed(slider_on_change)\n",
    "\n",
    "#cid = fig.canvas.mpl_connect('button_press_event', onclick)\n",
    "\n",
    "plt.show()"
   ]
  },
  {
   "cell_type": "code",
   "execution_count": 13,
   "metadata": {},
   "outputs": [],
   "source": [
    "import numpy as np\n",
    "import struct\n",
    "\n",
    "def getTrackerXY_points(data):\n",
    "    recsize = 1828\n",
    "    nrecs = len(data)//recsize\n",
    "    xloc = np.zeros(nrecs)\n",
    "    yloc = np.zeros(nrecs)\n",
    "    hdir = np.zeros(nrecs)\n",
    "    ts = np.zeros(nrecs)\n",
    "    \n",
    "    for i in range(nrecs):\n",
    "        recoffset=recsize*i\n",
    "        xloc[i] = struct.unpack('i', data[recoffset+1615:recoffset+1619])[0]\n",
    "        yloc[i] = struct.unpack('i', data[recoffset+1619:recoffset+1623])[0]\n",
    "        ts[i] = struct.unpack('q', data[recoffset+6:recoffset+14])[0]\n",
    "        \n",
    "    return xloc, yloc, ts\n",
    "vidfile = './VT1.Nvt'\n",
    "with open(vidfile, 'rb') as f:\n",
    "   data = f.read()[16384:]\n",
    "f.close()\n",
    "\n",
    "x,y,ts = getVideo(data)"
   ]
  },
  {
   "cell_type": "code",
   "execution_count": 18,
   "metadata": {},
   "outputs": [
    {
     "name": "stdout",
     "output_type": "stream",
     "text": [
      "(array([15259., 14987., 14377., ..., 17656., 17241., 17625.]), array([85504., 86272., 86272., ..., 96768., 97280., 96768.]))\n"
     ]
    }
   ],
   "source": [
    "from matplotlib import pyplot as plt\n",
    "print(x[100000:200000], y[100000:200000])"
   ]
  },
  {
   "cell_type": "code",
   "execution_count": 17,
   "metadata": {},
   "outputs": [
    {
     "name": "stdout",
     "output_type": "stream",
     "text": [
      "298398\n"
     ]
    }
   ],
   "source": [
    "print(len(x))"
   ]
  },
  {
   "cell_type": "code",
   "execution_count": 19,
   "metadata": {},
   "outputs": [
    {
     "data": {
      "image/png": "[encoded data removed]",
      "text/plain": [
       "<Figure size 432x288 with 1 Axes>"
      ]
     },
     "metadata": {
      "needs_background": "light"
     },
     "output_type": "display_data"
    }
   ],
   "source": [
    "plt.plot(x[100000:200000],y[100000:200000], 'k.')\n",
    "plt.show()"
   ]
  },
  {
   "cell_type": "code",
   "execution_count": 5,
   "metadata": {},
   "outputs": [
    {
     "name": "stdout",
     "output_type": "stream",
     "text": [
      "(array([ 54., 184.,  57., 152., 249., 219.,  73., 124., 157.,  45.,  13.,\n",
      "       156., 255.,  63., 210., 192.,  80., 179.,  96., 160., 230.,  54.,\n",
      "       102., 100.,  21., 212., 201., 152.,  24.,  40.,  72., 139., 156.,\n",
      "        31., 173.,  13., 223.,  79., 193., 194.,  48.,  35., 211., 162.,\n",
      "       165., 116., 196.,   7., 150., 134., 185., 184., 249., 200.,  88.,\n",
      "        74., 168.,  31.,  92., 204.,  31.,  29., 108., 163., 194., 193.,\n",
      "       178.,  50.,  33., 164.,  68., 183.,  55., 135.,   4., 249.,   9.,\n",
      "       106., 153., 104., 153.,  13.,  94., 126.,  31.,  60., 252.,  99.,\n",
      "        83.,  33., 115.,  96., 112.,  68.,  38.,  23.,  85., 166.,   5.,\n",
      "        20.]), array([0., 0., 0., 0., 0., 0., 0., 0., 0., 0., 0., 0., 0., 0., 0., 0., 0.,\n",
      "       0., 0., 0., 0., 0., 0., 0., 0., 0., 0., 0., 0., 0., 0., 0., 0., 0.,\n",
      "       0., 0., 0., 0., 0., 0., 0., 0., 0., 0., 0., 0., 0., 0., 0., 0., 0.,\n",
      "       0., 0., 0., 0., 0., 0., 0., 0., 0., 0., 0., 0., 0., 0., 0., 0., 0.,\n",
      "       0., 0., 0., 0., 0., 0., 0., 0., 0., 0., 0., 0., 0., 0., 0., 0., 0.,\n",
      "       0., 0., 0., 0., 0., 0., 0., 0., 0., 0., 0., 0., 0., 0., 0.]))\n"
     ]
    }
   ],
   "source": []
  },
  {
   "cell_type": "code",
   "execution_count": 2,
   "metadata": {},
   "outputs": [],
   "source": [
    "import numpy as np\n",
    "import struct\n",
    "\n",
    "def getVideoData(fname):\n",
    "  print(fname)\n",
    "\n",
    "  with open(fname, 'rb') as f:\n",
    "    data = f.read()[16384:]\n",
    "    f.close()\n",
    "  \n",
    "  nrecords = int(len(data)/1828)\n",
    "  print(\"Number of Records: {}\".format(nrecords))\n",
    "  #nrecs=3000\n",
    "  xloc=np.zeros(nrecords, dtype=np.uint8)\n",
    "  yloc=np.zeros(nrecords, dtype=np.uint8)\n",
    "  hdir=np.zeros(nrecords, dtype=np.uint8)\n",
    "  ts= np.zeros(nrecords, dtype=np.uint64)\n",
    " # dwPoints = np.zeros([nrecords,400])\n",
    "  dwPoints = []\n",
    "  dnTargets = []\n",
    "  recsize=1828\n",
    "        \n",
    "  for record in range(nrecords):\n",
    "    # print(record)\n",
    "     recoffset = recsize*record\n",
    "     swstx = int(struct.unpack('H',data[recoffset:recoffset+2])[0])\n",
    "#     print(\"swstx: {}\".format(swstx))\n",
    "     swid = int(struct.unpack('H',data[recoffset+2:recoffset+4])[0])\n",
    "#     print(\"swid: {}\".format(swid))\n",
    "     swdata_size = int(struct.unpack('H',data[recoffset+4:recoffset+6])[0])\n",
    "#     print(\"swdata_size: {}\".format(swdata_size)) \n",
    "     ts[record] = int(struct.unpack('Q',data[recoffset+6:recoffset+14])[0])\n",
    "     dwP = struct.unpack('400I',data[recoffset+14:recoffset+1614])\n",
    "#     print(len(dwP)\n",
    "     dwPoints.append(tuple(p for p in dwP if int(p) != 0))\n",
    "#     sncrc = int(struct.unpack('H', data[recoffset+1614:recoffset+1616])[0])\n",
    "\n",
    "     xloc[record] = struct.unpack('i', data[recoffset+1615:recoffset+1619])[0]\n",
    "     yloc[record] = struct.unpack('i', data[recoffset+1619:recoffset+1623])[0]\n",
    "  \n",
    "     dnT = struct.unpack('50i',data[recoffset+1628:recoffset+1828])\n",
    "     #newone = struct.unpack('H', data[recoffset+1828:recoffset+1830])[0]\n",
    "     #print(\"new one {}\".format(newone))\n",
    "\n",
    "     dnTargets.append(tuple(t for t in dnT if int(t) != 0))\n",
    "  return ts, xloc, yloc, dwPoints, dnTargets\n",
    " "
   ]
  },
  {
   "cell_type": "code",
   "execution_count": 12,
   "metadata": {},
   "outputs": [],
   "source": [
    "from __future__ import division\n",
    "\n",
    "import struct\n",
    "import matplotlib.pyplot as plt\n",
    "import numpy as np\n",
    "import os\n",
    "import array\n",
    "import sys\n",
    "       \n",
    "def getVideodata(fname):\n",
    "    \n",
    "  with open(fname, 'rb') as f:\n",
    "    data = f.read()[16384:]\n",
    "    f.close()\n",
    "  print(\"data: \", len(data))  \n",
    "  nrecords = len(data)//1828\n",
    "  print(\"Number of Records: {}\".format(nrecords))\n",
    "  #nrecs=3000\n",
    "  xloc=np.zeros(nrecords, dtype=np.uint8)\n",
    "  yloc=np.zeros(nrecords, dtype=np.uint8)\n",
    "  hdir=np.zeros(nrecords, dtype=np.uint8)\n",
    "  ts= np.zeros(nrecords, dtype=np.uint64)\n",
    " # dwPoints = np.zeros([nrecords,400])\n",
    "  dwPoints = []\n",
    "  dnTargets = []\n",
    "  recsize=1828\n",
    "  \n",
    "  for record in range(nrecords):\n",
    "    # print(record)\n",
    "     recoffset = recsize*record\n",
    "     swstx = int(struct.unpack('H',data[recoffset:recoffset+2])[0])\n",
    "#     print(\"swstx: {}\".format(swstx))\n",
    "     swid = int(struct.unpack('H',data[recoffset+2:recoffset+4])[0])\n",
    "#     print(\"swid: {}\".format(swid))\n",
    "     swdata_size = int(struct.unpack('H',data[recoffset+4:recoffset+6])[0])\n",
    "#     print(\"swdata_size: {}\".format(swdata_size)) \n",
    "     ts[record] = int(struct.unpack('Q',data[recoffset+6:recoffset+14])[0])\n",
    "     dwP = struct.unpack('400I',data[recoffset+14:recoffset+1614])\n",
    "#     print(len(dwP)\n",
    "     dwPoints.append(tuple(p for p in dwP if int(p) != 0))\n",
    "     sncrc = int(struct.unpack('H', data[recoffset+1614:recoffset+1616])[0])\n",
    "     #xloc[record] = struct.unpack('i', data[recoffset+1615:recoffset+1619])[0]\n",
    "     #yloc[record] = struct.unpack('i', data[recoffset+1619:recoffset+1623])[0]\n",
    "     xloc[record] = int(struct.unpack('i', data[recoffset+1616:recoffset+1620])[0])\n",
    "     yloc[record] = int(struct.unpack('i', data[recoffset+1620:recoffset+1624])[0])\n",
    "     hdir[record] = int(struct.unpack('i', data[recoffset+1624:recoffset+1628])[0]) \n",
    "     #print(xloc[record], yloc[record])\n",
    "     dnT = struct.unpack('50i',data[recoffset+1628:recoffset+1828])\n",
    "     #newone = struct.unpack('H', data[recoffset+1828:recoffset+1830])[0]\n",
    "     #print(\"new one {}\".format(newone))\n",
    "\n",
    "     dnTargets.append(tuple(t for t in dnT if int(t) != 0))\n",
    "  return ts, xloc, yloc, dwPoints, dnTargets"
   ]
  },
  {
   "cell_type": "code",
   "execution_count": 13,
   "metadata": {},
   "outputs": [
    {
     "name": "stdout",
     "output_type": "stream",
     "text": [
      "processing video...\n",
      "('data: ', 545471544)\n",
      "Number of Records: 298398\n",
      "...done\n"
     ]
    }
   ],
   "source": [
    "print(\"processing video...\")\n",
    "vidfile = './RawData/VT1.Nvt'\n",
    "timestamps, xpt, ypt, dwP, dnT = getVideodata(vidfile)\n",
    "print(\"...done\")"
   ]
  },
  {
   "cell_type": "code",
   "execution_count": 17,
   "metadata": {},
   "outputs": [
    {
     "name": "stdout",
     "output_type": "stream",
     "text": [
      "(array([ 54,  57, 249,  73, 157,  13, 255, 210,  80,  96, 230, 102,  21,\n",
      "       201,  24,  72, 156, 173, 223, 193,  48, 211, 165, 196, 150, 185,\n",
      "       249,  88, 168,  92,  31, 108, 194, 178,  33,  68,  55,   4,   9,\n",
      "       153, 153,  94,  31, 252,  83, 115, 112,  38,  85,   5, 250, 234,\n",
      "       234, 252, 252,  28,  18, 208,  82,  23,  86,  23, 139,  42,  24,\n",
      "       174, 252, 204, 243, 194, 112,  36,  71, 149, 229, 170, 170, 234,\n",
      "       252, 125,  12,  48, 178, 112, 100, 103,  84,   9, 201,  57, 175,\n",
      "       223, 189,  83,  97, 226,  53, 167,  23, 154], dtype=uint8), array([184, 152, 219, 124,  45, 156,  63, 192, 179, 160,  54, 100, 212,\n",
      "       152,  40, 139,  31,  13,  79, 194,  35, 162, 116,   7, 134, 184,\n",
      "       200,  74,  31, 204,  29, 163, 193,  50, 164, 183, 135, 249, 106,\n",
      "       104,  13, 126,  60,  99,  33,  96,  68,  23, 166,  20, 104,  41,\n",
      "       152, 236,  14, 253,  51, 144, 209, 198,  22, 246,  11, 201, 137,\n",
      "       207,  30, 190, 243, 131,  81, 133, 213, 247, 123,   8, 248, 222,\n",
      "       221,  92, 146,  49, 226, 246, 135, 199,   8,  72, 248, 188,  12,\n",
      "       111,  64,  19,  49,  81, 180,  53,   7, 107], dtype=uint8))\n"
     ]
    },
    {
     "data": {
      "image/png": "[encoded data removed]",
      "text/plain": [
       "<Figure size 432x288 with 1 Axes>"
      ]
     },
     "metadata": {
      "needs_background": "light"
     },
     "output_type": "display_data"
    }
   ],
   "source": [
    "print(x[:100], y[:100])\n",
    "\n",
    "plt.plot(x,y, 'k.')\n",
    "plt.show()"
   ]
  },
  {
   "cell_type": "code",
   "execution_count": 5,
   "metadata": {},
   "outputs": [
    {
     "ename": "IndexError",
     "evalue": "too many indices for array",
     "output_type": "error",
     "traceback": [
      "\u001b[0;31m---------------------------------------------------------------------------\u001b[0m",
      "\u001b[0;31mIndexError\u001b[0m                                Traceback (most recent call last)",
      "\u001b[0;32m<ipython-input-5-4c0b8337efa9>\u001b[0m in \u001b[0;36m<module>\u001b[0;34m()\u001b[0m\n\u001b[1;32m      2\u001b[0m \u001b[0;34m\u001b[0m\u001b[0m\n\u001b[1;32m      3\u001b[0m \u001b[0mtest\u001b[0m \u001b[0;34m=\u001b[0m \u001b[0mnp\u001b[0m\u001b[0;34m.\u001b[0m\u001b[0mzeros\u001b[0m\u001b[0;34m(\u001b[0m\u001b[0;34m[\u001b[0m\u001b[0;36m640\u001b[0m\u001b[0;34m,\u001b[0m\u001b[0;36m480\u001b[0m\u001b[0;34m]\u001b[0m\u001b[0;34m)\u001b[0m\u001b[0;34m\u001b[0m\u001b[0m\n\u001b[0;32m----> 4\u001b[0;31m \u001b[0mtest\u001b[0m\u001b[0;34m[\u001b[0m\u001b[0mdwP\u001b[0m\u001b[0;34m[\u001b[0m\u001b[0;36m0\u001b[0m\u001b[0;34m]\u001b[0m\u001b[0;34m]\u001b[0m \u001b[0;34m=\u001b[0m \u001b[0;36m255\u001b[0m\u001b[0;34m\u001b[0m\u001b[0m\n\u001b[0m\u001b[1;32m      5\u001b[0m \u001b[0mplt\u001b[0m\u001b[0;34m.\u001b[0m\u001b[0mimshow\u001b[0m\u001b[0;34m(\u001b[0m\u001b[0mtest\u001b[0m\u001b[0;34m)\u001b[0m\u001b[0;34m\u001b[0m\u001b[0m\n\u001b[1;32m      6\u001b[0m \u001b[0mplt\u001b[0m\u001b[0;34m.\u001b[0m\u001b[0mshow\u001b[0m\u001b[0;34m(\u001b[0m\u001b[0;34m)\u001b[0m\u001b[0;34m\u001b[0m\u001b[0m\n",
      "\u001b[0;31mIndexError\u001b[0m: too many indices for array"
     ]
    }
   ],
   "source": [
    "import numpy as np\n",
    "\n",
    "test = np.zeros([640,480])\n",
    "test[dwP[0]] = 255\n",
    "plt.imshow(test)\n",
    "plt.show()"
   ]
  },
  {
   "cell_type": "code",
   "execution_count": null,
   "metadata": {},
   "outputs": [],
   "source": [
    "print(dwP[0])"
   ]
  },
  {
   "cell_type": "code",
   "execution_count": null,
   "metadata": {},
   "outputs": [],
   "source": [
    "print(timestamps[:100])"
   ]
  },
  {
   "cell_type": "code",
   "execution_count": null,
   "metadata": {},
   "outputs": [],
   "source": [
    "xlim = [int(sys.argv[1]), int(sys.argv[2])]\n",
    "ylim = [int(sys.argv[3]), int(sys.argv[4])]\n",
    "print(xlim)\n",
    "print(ylim)\n",
    "\n",
    "sleep = int(sys.argv[5])\n",
    "\n",
    "vidfile = './RawData/VT1.Nvt'\n",
    "\n",
    "\n",
    "npzfile = np.load('./RawData/EPOCHS.npz')\n",
    "start = npzfile['arr_0'].astype(int)\n",
    "stop = npzfile['arr_1'].astype(int)\n",
    "\n",
    "\n",
    "#data = videodata[10000:20000]\n",
    "\n",
    "timestamps, xpt, ypt, dwP, dnT = getVideodata(videodata)\n",
    "img=np.zeros([640, 480], dtype=np.uint8)\n",
    "\n",
    "\n",
    "print(start)\n",
    "print(stop)\n",
    "\n",
    "if sleep == 1:\n",
    "  timestamps = list(timestamps[:start]) + list(timestamps[stop:])\n",
    "  xpt = list(xpt[:start]) + list(xpt[stop:])\n",
    "  ypt = list(ypt[:start]) + list(ypt[stop:])\n",
    "  dwP = list(dwP[:start]) + list(dwP[stop:])\n",
    "  dnT = list(dnT[:start]) + list(dnT[stop:])\n",
    "else:\n",
    "  timestamps = list(timestamps[start:stop])\n",
    "  xpt = list(xpt[start:stop])\n",
    "  ypt = list(ypt[start:stop])\n",
    "  dwP = list(dwP[start:stop])\n",
    "  dnT = list(dnT[start:stop])\n",
    "\n",
    "\n",
    "outfile = './RawData/dnTout.ascii'\n",
    "f = open(outfile, \"w\")\n",
    "\n",
    "for ii,targets in enumerate(dnT):\n",
    "  for t in targets:\n",
    "    line = format(t,'032b')\n",
    "    pure = line[0:4]\n",
    "    y = int(line[4:16], 2)   \n",
    "    raw = line[16:20]\n",
    "    x = int(line[20:], 2)\n",
    "      \n",
    "    outstr=str(timestamps[ii]) + ' ' \\\n",
    "         + str(raw[0]) + ' ' + str(raw[1]) + ' ' + str(raw[2]) + ' ' + str(raw[3]) + ' ' \\\n",
    "         + str(pure[1]) + ' ' + str(pure[2]) + ' ' + str(pure[3]) + ' ' \\\n",
    "         + str(x) + ' ' + str(y) + '\\n'\n",
    "    if (ylim[0] < y < ylim[1]) and (xlim[0] < x < xlim[1]):\n",
    "      f.write(outstr)\n",
    "      img[x,y] += 1\n",
    "      #print(outstr)\n",
    "plt.subplot(2,2,1)\n",
    "plt.plot(ypt,xpt,'b.')\n",
    "\n",
    "plt.subplot(2,2,2)\n",
    "plt.imshow(img)\n",
    "#plt.show()\n",
    "\n",
    "f.close()\n",
    "\n",
    "outfile = './RawData/dwPout.ascii'\n",
    "\n",
    "f = open(outfile, \"w\")\n",
    "\n",
    "img=np.zeros([640, 480], dtype=np.uint8)\n",
    "for ii,p in enumerate(dwP):\n",
    "  for pt in p:\n",
    "    line = format(pt,'032b')\n",
    "    pure = line[0:4]\n",
    "  \n",
    "    y = int(line[4:16], 2)\n",
    "    raw = line[16:20]\n",
    "    x = int(line[20:], 2)\n",
    "    \n",
    "    outstr=str(timestamps[ii]) + ' ' \\\n",
    "         + str(raw[0]) + ' ' + str(raw[1]) + ' ' + str(raw[2]) + ' ' + str(raw[3]) + ' ' \\\n",
    "         + str(pure[1]) + ' ' + str(pure[2]) + ' ' + str(pure[3]) + ' ' \\\n",
    "         + str(x) + ' ' + str(y) + '\\n'\n",
    " \n",
    "    if (ylim[0] < y < ylim[1]) and (xlim[0] < x < xlim[1]):\n",
    "      f.write(outstr)\n",
    "      img[x,y] += 1\n",
    "      #print(outstr)\n",
    "\n",
    "plt.subplot(2,2,3)\n",
    " \n",
    "plt.imshow(img)\n",
    "plt.show()\n",
    "\n",
    "f.close()\n",
    "\n",
    "\n",
    "\"\"\"lopt\n",
    "Information about file formats for Cheetah video\n",
    "\n",
    "UInt16 swstx Value indicating the beginning of a record. Always 0x800 (2048).\n",
    "UInt16 swid ID for the originating system of this record.\n",
    "UInt16 swdata_size Size of a VideoRec in bytes.\n",
    "UInt64 qwTimeStamp Cheetah timestamp for this record. This value is in microseconds.\n",
    "14 + 1600 2 4 4 4 200\n",
    "UInt32[] dwPoints Points with the color bitfield values for this record. This is a 400\n",
    "element array. See Video Tracker Bitfield Information below.\n",
    "\n",
    "Int16 sncrc Unused*\n",
    "\n",
    "Int32 dnextracted_x Extracted X location of the target being tracked.\n",
    "Int32 dnextracted_y Extracted Y location of the target being tracked.\n",
    "Int32 dnextracted_angle The calculated head angle in degrees clockwise from the positive Y\n",
    "axis. Zero will be assigned if angle tracking is disabled.**\n",
    "\n",
    "Int32[] dntargets Colored targets using the samebitfield format used by the dwPoints\n",
    "array. Instead of transitions, the bitfield indicates the colors that make\n",
    "up each particular target and the center point of that target. This is a\n",
    "50 element array sorted by size from largest (index 0) to smallest\n",
    "(index 49). A target value of 0 means that no target is present in that\n",
    "index location. See Video Tracker Bitfield Information below.\n",
    "\n",
    "Video Tracker Bitfield Information:\n",
    "The pixel data consists of four hundred 32 bit values (one 32 bit value per pixel). The target data\n",
    "consists of fifty 32 bit values. These data have the same bit-field format which means that the 32 bit\n",
    "value is broken up into sub data to describe the X location (pixel number in the line), Y location (line\n",
    "number  of the frame) and the tracker colors which were above and below threshold.\n",
    "\n",
    "The X and Y values are allocated 12 bits each, but their maximum value is determined by the resolution\n",
    "that is used when tracking. See the header of your file for information about the resolution used when\n",
    "your file was recorded. The other bits indicate which of the color values were above (1) or below (0)\n",
    "their respective threshold setting. The layout of these bit fields can be visualized by the following:\n",
    "\"\"\"\n",
    " \n",
    "    \n",
    "    "
   ]
  },
  {
   "cell_type": "code",
   "execution_count": null,
   "metadata": {},
   "outputs": [],
   "source": [
    "ts, x, y,_,_ = getVideoData('./RawData/VT1.Nvt')\n",
    "\n",
    "print(\"finishied...\")"
   ]
  },
  {
   "cell_type": "code",
   "execution_count": null,
   "metadata": {},
   "outputs": [],
   "source": [
    "print(x[:100], y[:100])"
   ]
  },
  {
   "cell_type": "code",
   "execution_count": null,
   "metadata": {},
   "outputs": [],
   "source": [
    "from matplotlib import pyplot as plt\n",
    "\n",
    "\n",
    "plt.plot(x,y, 'k.')\n",
    "plt.show()"
   ]
  },
  {
   "cell_type": "code",
   "execution_count": null,
   "metadata": {},
   "outputs": [],
   "source": []
  }
 ],
 "metadata": {
  "kernelspec": {
   "display_name": "Python 3",
   "language": "python",
   "name": "python3"
  },
  "language_info": {
   "codemirror_mode": {
    "name": "ipython",
    "version": 2
   },
   "file_extension": ".py",
   "mimetype": "text/x-python",
   "name": "python",
   "nbconvert_exporter": "python",
   "pygments_lexer": "ipython2",
   "version": "2.7.12"
  }
 },
 "nbformat": 4,
 "nbformat_minor": 2
}
